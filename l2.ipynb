{
 "cells": [
  {
   "cell_type": "code",
   "execution_count": 1,
   "metadata": {},
   "outputs": [
    {
     "ename": "ModuleNotFoundError",
     "evalue": "No module named 'pandas'",
     "output_type": "error",
     "traceback": [
      "\u001b[0;31m---------------------------------------------------------------------------\u001b[0m",
      "\u001b[0;31mModuleNotFoundError\u001b[0m                       Traceback (most recent call last)",
      "\u001b[0;32m<ipython-input-1-281e102d5ee6>\u001b[0m in \u001b[0;36m<module>\u001b[0;34m\u001b[0m\n\u001b[0;32m----> 1\u001b[0;31m \u001b[0;32mimport\u001b[0m \u001b[0mpandas\u001b[0m \u001b[0;32mas\u001b[0m \u001b[0mpd\u001b[0m\u001b[0;34m\u001b[0m\u001b[0;34m\u001b[0m\u001b[0m\n\u001b[0m\u001b[1;32m      2\u001b[0m \u001b[0;32mimport\u001b[0m \u001b[0mnumpy\u001b[0m \u001b[0;32mas\u001b[0m \u001b[0mnp\u001b[0m\u001b[0;34m\u001b[0m\u001b[0;34m\u001b[0m\u001b[0m\n\u001b[1;32m      3\u001b[0m \u001b[0;32mimport\u001b[0m \u001b[0mtensorflow\u001b[0m\u001b[0;34m.\u001b[0m\u001b[0mkeras\u001b[0m \u001b[0;32mas\u001b[0m \u001b[0mtf\u001b[0m\u001b[0;34m\u001b[0m\u001b[0;34m\u001b[0m\u001b[0m\n\u001b[1;32m      4\u001b[0m \u001b[0;32mimport\u001b[0m \u001b[0mmatplotlib\u001b[0m\u001b[0;34m.\u001b[0m\u001b[0mpyplot\u001b[0m \u001b[0;32mas\u001b[0m \u001b[0mplt\u001b[0m\u001b[0;34m\u001b[0m\u001b[0;34m\u001b[0m\u001b[0m\n",
      "\u001b[0;31mModuleNotFoundError\u001b[0m: No module named 'pandas'"
     ]
    }
   ],
   "source": [
    "import pandas as pd \n",
    "import numpy as np \n",
    "import tensorflow.keras as tf \n",
    "import matplotlib.pyplot as plt"
   ]
  },
  {
   "cell_type": "code",
   "execution_count": 2,
   "metadata": {},
   "outputs": [],
   "source": [
    "dataset1 = pd.read_csv('../Total-CSVs/l2-benign.csv')"
   ]
  },
  {
   "cell_type": "code",
   "execution_count": 3,
   "metadata": {},
   "outputs": [],
   "source": [
    "dataset2 = pd.read_csv('../Total-CSVs/l2-malicious.csv')\n"
   ]
  },
  {
   "cell_type": "code",
   "execution_count": 4,
   "metadata": {},
   "outputs": [],
   "source": [
    "dataset = pd.concat([dataset1, dataset2], ignore_index=True, sort=False)\n",
    "X0 = dataset.iloc[:, 0].values\n",
    "X1 = dataset.iloc[:,1].values\n",
    "Y = dataset.iloc[:, 34].values\n"
   ]
  },
  {
   "cell_type": "code",
   "execution_count": 5,
   "metadata": {},
   "outputs": [
    {
     "data": {
      "text/html": "<div>\n<style scoped>\n    .dataframe tbody tr th:only-of-type {\n        vertical-align: middle;\n    }\n\n    .dataframe tbody tr th {\n        vertical-align: top;\n    }\n\n    .dataframe thead th {\n        text-align: right;\n    }\n</style>\n<table border=\"1\" class=\"dataframe\">\n  <thead>\n    <tr style=\"text-align: right;\">\n      <th></th>\n      <th>SourceIP</th>\n      <th>DestinationIP</th>\n      <th>SourcePort</th>\n      <th>DestinationPort</th>\n      <th>TimeStamp</th>\n      <th>Duration</th>\n      <th>FlowBytesSent</th>\n      <th>FlowSentRate</th>\n      <th>FlowBytesReceived</th>\n      <th>FlowReceivedRate</th>\n      <th>...</th>\n      <th>PacketTimeCoefficientofVariation</th>\n      <th>ResponseTimeTimeVariance</th>\n      <th>ResponseTimeTimeStandardDeviation</th>\n      <th>ResponseTimeTimeMean</th>\n      <th>ResponseTimeTimeMedian</th>\n      <th>ResponseTimeTimeMode</th>\n      <th>ResponseTimeTimeSkewFromMedian</th>\n      <th>ResponseTimeTimeSkewFromMode</th>\n      <th>ResponseTimeTimeCoefficientofVariation</th>\n      <th>Label</th>\n    </tr>\n  </thead>\n  <tbody>\n    <tr>\n      <th>0</th>\n      <td>192.168.20.191</td>\n      <td>176.103.130.131</td>\n      <td>50749</td>\n      <td>443</td>\n      <td>2020-01-14 15:49:11</td>\n      <td>95.081550</td>\n      <td>62311</td>\n      <td>655.342703</td>\n      <td>65358</td>\n      <td>687.388878</td>\n      <td>...</td>\n      <td>0.574626</td>\n      <td>1.053454e-03</td>\n      <td>0.032457</td>\n      <td>0.027624</td>\n      <td>0.026854</td>\n      <td>0.026822</td>\n      <td>0.071187</td>\n      <td>0.024715</td>\n      <td>1.174948</td>\n      <td>Benign</td>\n    </tr>\n    <tr>\n      <th>1</th>\n      <td>192.168.20.191</td>\n      <td>176.103.130.131</td>\n      <td>50749</td>\n      <td>443</td>\n      <td>2020-01-14 15:50:52</td>\n      <td>122.309318</td>\n      <td>93828</td>\n      <td>767.136973</td>\n      <td>101232</td>\n      <td>827.672018</td>\n      <td>...</td>\n      <td>0.509047</td>\n      <td>1.169641e-03</td>\n      <td>0.034200</td>\n      <td>0.024387</td>\n      <td>0.021043</td>\n      <td>0.026981</td>\n      <td>0.293297</td>\n      <td>-0.075845</td>\n      <td>1.402382</td>\n      <td>Benign</td>\n    </tr>\n    <tr>\n      <th>2</th>\n      <td>192.168.20.191</td>\n      <td>176.103.130.131</td>\n      <td>50749</td>\n      <td>443</td>\n      <td>2020-01-14 15:52:55</td>\n      <td>120.958413</td>\n      <td>38784</td>\n      <td>320.639127</td>\n      <td>38236</td>\n      <td>316.108645</td>\n      <td>...</td>\n      <td>0.732636</td>\n      <td>7.851554e-04</td>\n      <td>0.028021</td>\n      <td>0.029238</td>\n      <td>0.026922</td>\n      <td>0.026855</td>\n      <td>0.248064</td>\n      <td>0.085061</td>\n      <td>0.958348</td>\n      <td>Benign</td>\n    </tr>\n    <tr>\n      <th>3</th>\n      <td>192.168.20.191</td>\n      <td>176.103.130.131</td>\n      <td>50749</td>\n      <td>443</td>\n      <td>2020-01-14 15:54:56</td>\n      <td>110.501080</td>\n      <td>61993</td>\n      <td>561.017141</td>\n      <td>69757</td>\n      <td>631.278898</td>\n      <td>...</td>\n      <td>0.646859</td>\n      <td>4.110453e-04</td>\n      <td>0.020274</td>\n      <td>0.019925</td>\n      <td>0.019268</td>\n      <td>0.026918</td>\n      <td>0.097199</td>\n      <td>-0.344926</td>\n      <td>1.017535</td>\n      <td>Benign</td>\n    </tr>\n    <tr>\n      <th>4</th>\n      <td>176.103.130.131</td>\n      <td>192.168.20.191</td>\n      <td>443</td>\n      <td>50749</td>\n      <td>2020-01-14 15:56:46</td>\n      <td>54.229891</td>\n      <td>83641</td>\n      <td>1542.341289</td>\n      <td>76804</td>\n      <td>1416.266907</td>\n      <td>...</td>\n      <td>0.507334</td>\n      <td>7.907866e-02</td>\n      <td>0.281209</td>\n      <td>0.025930</td>\n      <td>0.000046</td>\n      <td>0.000021</td>\n      <td>0.276133</td>\n      <td>0.092135</td>\n      <td>10.844829</td>\n      <td>Benign</td>\n    </tr>\n    <tr>\n      <th>...</th>\n      <td>...</td>\n      <td>...</td>\n      <td>...</td>\n      <td>...</td>\n      <td>...</td>\n      <td>...</td>\n      <td>...</td>\n      <td>...</td>\n      <td>...</td>\n      <td>...</td>\n      <td>...</td>\n      <td>...</td>\n      <td>...</td>\n      <td>...</td>\n      <td>...</td>\n      <td>...</td>\n      <td>...</td>\n      <td>...</td>\n      <td>...</td>\n      <td>...</td>\n      <td>...</td>\n    </tr>\n    <tr>\n      <th>269638</th>\n      <td>1.1.1.1</td>\n      <td>192.168.20.207</td>\n      <td>443</td>\n      <td>33926</td>\n      <td>2020-04-01 00:46:31</td>\n      <td>120.653838</td>\n      <td>78776</td>\n      <td>652.909193</td>\n      <td>46073</td>\n      <td>381.861040</td>\n      <td>...</td>\n      <td>0.614497</td>\n      <td>8.716113e-09</td>\n      <td>0.000093</td>\n      <td>0.000054</td>\n      <td>0.000037</td>\n      <td>0.000028</td>\n      <td>0.538614</td>\n      <td>0.275939</td>\n      <td>1.736555</td>\n      <td>Malicious</td>\n    </tr>\n    <tr>\n      <th>269639</th>\n      <td>1.1.1.1</td>\n      <td>192.168.20.207</td>\n      <td>443</td>\n      <td>33926</td>\n      <td>2020-04-01 00:48:32</td>\n      <td>120.718680</td>\n      <td>78719</td>\n      <td>652.086322</td>\n      <td>46047</td>\n      <td>381.440553</td>\n      <td>...</td>\n      <td>0.615953</td>\n      <td>8.737216e-07</td>\n      <td>0.000935</td>\n      <td>0.000110</td>\n      <td>0.000032</td>\n      <td>0.000024</td>\n      <td>0.250408</td>\n      <td>0.092028</td>\n      <td>8.495895</td>\n      <td>Malicious</td>\n    </tr>\n    <tr>\n      <th>269640</th>\n      <td>1.1.1.1</td>\n      <td>192.168.20.207</td>\n      <td>443</td>\n      <td>33926</td>\n      <td>2020-04-01 00:50:33</td>\n      <td>120.645723</td>\n      <td>78808</td>\n      <td>653.218349</td>\n      <td>46118</td>\n      <td>382.259718</td>\n      <td>...</td>\n      <td>0.646320</td>\n      <td>1.558392e-06</td>\n      <td>0.001248</td>\n      <td>0.000128</td>\n      <td>0.000035</td>\n      <td>0.000025</td>\n      <td>0.222679</td>\n      <td>0.082237</td>\n      <td>9.778681</td>\n      <td>Malicious</td>\n    </tr>\n    <tr>\n      <th>269641</th>\n      <td>1.1.1.1</td>\n      <td>192.168.20.207</td>\n      <td>443</td>\n      <td>33926</td>\n      <td>2020-04-01 00:52:33</td>\n      <td>120.652326</td>\n      <td>77281</td>\n      <td>640.526400</td>\n      <td>46015</td>\n      <td>381.385105</td>\n      <td>...</td>\n      <td>0.593311</td>\n      <td>1.055948e-09</td>\n      <td>0.000032</td>\n      <td>0.000044</td>\n      <td>0.000034</td>\n      <td>0.000017</td>\n      <td>0.935545</td>\n      <td>0.819613</td>\n      <td>0.744732</td>\n      <td>Malicious</td>\n    </tr>\n    <tr>\n      <th>269642</th>\n      <td>1.1.1.1</td>\n      <td>192.168.20.207</td>\n      <td>443</td>\n      <td>33926</td>\n      <td>2020-04-01 00:54:34</td>\n      <td>30.951614</td>\n      <td>23514</td>\n      <td>759.701901</td>\n      <td>13884</td>\n      <td>448.571115</td>\n      <td>...</td>\n      <td>0.715879</td>\n      <td>3.638538e-08</td>\n      <td>0.000191</td>\n      <td>0.000075</td>\n      <td>0.000037</td>\n      <td>0.000021</td>\n      <td>0.599889</td>\n      <td>0.283843</td>\n      <td>2.538492</td>\n      <td>Malicious</td>\n    </tr>\n  </tbody>\n</table>\n<p>269643 rows × 35 columns</p>\n</div>",
      "text/plain": [
       "               SourceIP    DestinationIP  SourcePort  DestinationPort  \\\n",
       "0        192.168.20.191  176.103.130.131       50749              443   \n",
       "1        192.168.20.191  176.103.130.131       50749              443   \n",
       "2        192.168.20.191  176.103.130.131       50749              443   \n",
       "3        192.168.20.191  176.103.130.131       50749              443   \n",
       "4       176.103.130.131   192.168.20.191         443            50749   \n",
       "...                 ...              ...         ...              ...   \n",
       "269638          1.1.1.1   192.168.20.207         443            33926   \n",
       "269639          1.1.1.1   192.168.20.207         443            33926   \n",
       "269640          1.1.1.1   192.168.20.207         443            33926   \n",
       "269641          1.1.1.1   192.168.20.207         443            33926   \n",
       "269642          1.1.1.1   192.168.20.207         443            33926   \n",
       "\n",
       "                  TimeStamp    Duration  FlowBytesSent  FlowSentRate  \\\n",
       "0       2020-01-14 15:49:11   95.081550          62311    655.342703   \n",
       "1       2020-01-14 15:50:52  122.309318          93828    767.136973   \n",
       "2       2020-01-14 15:52:55  120.958413          38784    320.639127   \n",
       "3       2020-01-14 15:54:56  110.501080          61993    561.017141   \n",
       "4       2020-01-14 15:56:46   54.229891          83641   1542.341289   \n",
       "...                     ...         ...            ...           ...   \n",
       "269638  2020-04-01 00:46:31  120.653838          78776    652.909193   \n",
       "269639  2020-04-01 00:48:32  120.718680          78719    652.086322   \n",
       "269640  2020-04-01 00:50:33  120.645723          78808    653.218349   \n",
       "269641  2020-04-01 00:52:33  120.652326          77281    640.526400   \n",
       "269642  2020-04-01 00:54:34   30.951614          23514    759.701901   \n",
       "\n",
       "        FlowBytesReceived  FlowReceivedRate  ...  \\\n",
       "0                   65358        687.388878  ...   \n",
       "1                  101232        827.672018  ...   \n",
       "2                   38236        316.108645  ...   \n",
       "3                   69757        631.278898  ...   \n",
       "4                   76804       1416.266907  ...   \n",
       "...                   ...               ...  ...   \n",
       "269638              46073        381.861040  ...   \n",
       "269639              46047        381.440553  ...   \n",
       "269640              46118        382.259718  ...   \n",
       "269641              46015        381.385105  ...   \n",
       "269642              13884        448.571115  ...   \n",
       "\n",
       "        PacketTimeCoefficientofVariation  ResponseTimeTimeVariance  \\\n",
       "0                               0.574626              1.053454e-03   \n",
       "1                               0.509047              1.169641e-03   \n",
       "2                               0.732636              7.851554e-04   \n",
       "3                               0.646859              4.110453e-04   \n",
       "4                               0.507334              7.907866e-02   \n",
       "...                                  ...                       ...   \n",
       "269638                          0.614497              8.716113e-09   \n",
       "269639                          0.615953              8.737216e-07   \n",
       "269640                          0.646320              1.558392e-06   \n",
       "269641                          0.593311              1.055948e-09   \n",
       "269642                          0.715879              3.638538e-08   \n",
       "\n",
       "        ResponseTimeTimeStandardDeviation  ResponseTimeTimeMean  \\\n",
       "0                                0.032457              0.027624   \n",
       "1                                0.034200              0.024387   \n",
       "2                                0.028021              0.029238   \n",
       "3                                0.020274              0.019925   \n",
       "4                                0.281209              0.025930   \n",
       "...                                   ...                   ...   \n",
       "269638                           0.000093              0.000054   \n",
       "269639                           0.000935              0.000110   \n",
       "269640                           0.001248              0.000128   \n",
       "269641                           0.000032              0.000044   \n",
       "269642                           0.000191              0.000075   \n",
       "\n",
       "        ResponseTimeTimeMedian  ResponseTimeTimeMode  \\\n",
       "0                     0.026854              0.026822   \n",
       "1                     0.021043              0.026981   \n",
       "2                     0.026922              0.026855   \n",
       "3                     0.019268              0.026918   \n",
       "4                     0.000046              0.000021   \n",
       "...                        ...                   ...   \n",
       "269638                0.000037              0.000028   \n",
       "269639                0.000032              0.000024   \n",
       "269640                0.000035              0.000025   \n",
       "269641                0.000034              0.000017   \n",
       "269642                0.000037              0.000021   \n",
       "\n",
       "        ResponseTimeTimeSkewFromMedian  ResponseTimeTimeSkewFromMode  \\\n",
       "0                             0.071187                      0.024715   \n",
       "1                             0.293297                     -0.075845   \n",
       "2                             0.248064                      0.085061   \n",
       "3                             0.097199                     -0.344926   \n",
       "4                             0.276133                      0.092135   \n",
       "...                                ...                           ...   \n",
       "269638                        0.538614                      0.275939   \n",
       "269639                        0.250408                      0.092028   \n",
       "269640                        0.222679                      0.082237   \n",
       "269641                        0.935545                      0.819613   \n",
       "269642                        0.599889                      0.283843   \n",
       "\n",
       "        ResponseTimeTimeCoefficientofVariation      Label  \n",
       "0                                     1.174948     Benign  \n",
       "1                                     1.402382     Benign  \n",
       "2                                     0.958348     Benign  \n",
       "3                                     1.017535     Benign  \n",
       "4                                    10.844829     Benign  \n",
       "...                                        ...        ...  \n",
       "269638                                1.736555  Malicious  \n",
       "269639                                8.495895  Malicious  \n",
       "269640                                9.778681  Malicious  \n",
       "269641                                0.744732  Malicious  \n",
       "269642                                2.538492  Malicious  \n",
       "\n",
       "[269643 rows x 35 columns]"
      ]
     },
     "execution_count": 5,
     "metadata": {},
     "output_type": "execute_result"
    }
   ],
   "source": [
    "dataset"
   ]
  },
  {
   "cell_type": "code",
   "execution_count": 6,
   "metadata": {},
   "outputs": [
    {
     "data": {
      "text/plain": [
       "array(['Benign', 'Benign', 'Benign', ..., 'Malicious', 'Malicious',\n",
       "       'Malicious'], dtype=object)"
      ]
     },
     "execution_count": 6,
     "metadata": {},
     "output_type": "execute_result"
    }
   ],
   "source": [
    "Y"
   ]
  },
  {
   "cell_type": "code",
   "execution_count": 7,
   "metadata": {},
   "outputs": [
    {
     "name": "stdout",
     "output_type": "stream",
     "text": [
      "Packet dataset dimensions : (269643, 35)\n"
     ]
    }
   ],
   "source": [
    "print(\"Packet dataset dimensions : {}\".format(dataset.shape))"
   ]
  },
  {
   "cell_type": "code",
   "execution_count": 8,
   "metadata": {},
   "outputs": [
    {
     "data": {
      "text/plain": [
       "SourceIP                                    0\n",
       "DestinationIP                               0\n",
       "SourcePort                                  0\n",
       "DestinationPort                             0\n",
       "TimeStamp                                   0\n",
       "Duration                                    0\n",
       "FlowBytesSent                               0\n",
       "FlowSentRate                                0\n",
       "FlowBytesReceived                           0\n",
       "FlowReceivedRate                            0\n",
       "PacketLengthVariance                        0\n",
       "PacketLengthStandardDeviation               0\n",
       "PacketLengthMean                            0\n",
       "PacketLengthMedian                          0\n",
       "PacketLengthMode                            0\n",
       "PacketLengthSkewFromMedian                  0\n",
       "PacketLengthSkewFromMode                    0\n",
       "PacketLengthCoefficientofVariation          0\n",
       "PacketTimeVariance                          0\n",
       "PacketTimeStandardDeviation                 0\n",
       "PacketTimeMean                              0\n",
       "PacketTimeMedian                            0\n",
       "PacketTimeMode                              0\n",
       "PacketTimeSkewFromMedian                    0\n",
       "PacketTimeSkewFromMode                      0\n",
       "PacketTimeCoefficientofVariation            0\n",
       "ResponseTimeTimeVariance                    0\n",
       "ResponseTimeTimeStandardDeviation           0\n",
       "ResponseTimeTimeMean                        0\n",
       "ResponseTimeTimeMedian                    344\n",
       "ResponseTimeTimeMode                        0\n",
       "ResponseTimeTimeSkewFromMedian            344\n",
       "ResponseTimeTimeSkewFromMode                0\n",
       "ResponseTimeTimeCoefficientofVariation      0\n",
       "Label                                       0\n",
       "dtype: int64"
      ]
     },
     "execution_count": 8,
     "metadata": {},
     "output_type": "execute_result"
    }
   ],
   "source": [
    "dataset.isnull().sum()\n",
    "dataset.isna().sum()"
   ]
  },
  {
   "cell_type": "code",
   "execution_count": 9,
   "metadata": {},
   "outputs": [],
   "source": [
    "dataset.drop(['TimeStamp','ResponseTimeTimeMedian','ResponseTimeTimeSkewFromMedian','Label'], axis = 1, inplace = True) "
   ]
  },
  {
   "cell_type": "code",
   "execution_count": 10,
   "metadata": {},
   "outputs": [],
   "source": [
    "dataframe = pd.DataFrame(Y)\n",
    "#Encoding categorical data values \n",
    "from sklearn.preprocessing import LabelEncoder\n",
    "labelencoder_Y = LabelEncoder()\n",
    "Y = labelencoder_Y.fit_transform(Y)"
   ]
  },
  {
   "cell_type": "code",
   "execution_count": 11,
   "metadata": {},
   "outputs": [],
   "source": [
    "labelencoder_X0 = LabelEncoder()\n",
    "X0 = labelencoder_X0.fit_transform(X0)\n",
    "labelencoder_X1 = LabelEncoder()\n",
    "X1 = labelencoder_X1.fit_transform(X1)"
   ]
  },
  {
   "cell_type": "code",
   "execution_count": 12,
   "metadata": {},
   "outputs": [
    {
     "data": {
      "text/html": "<div>\n<style scoped>\n    .dataframe tbody tr th:only-of-type {\n        vertical-align: middle;\n    }\n\n    .dataframe tbody tr th {\n        vertical-align: top;\n    }\n\n    .dataframe thead th {\n        text-align: right;\n    }\n</style>\n<table border=\"1\" class=\"dataframe\">\n  <thead>\n    <tr style=\"text-align: right;\">\n      <th></th>\n      <th>SourceIP</th>\n      <th>DestinationIP</th>\n      <th>SourcePort</th>\n      <th>DestinationPort</th>\n      <th>Duration</th>\n      <th>FlowBytesSent</th>\n      <th>FlowSentRate</th>\n      <th>FlowBytesReceived</th>\n      <th>FlowReceivedRate</th>\n      <th>PacketLengthVariance</th>\n      <th>...</th>\n      <th>PacketTimeMode</th>\n      <th>PacketTimeSkewFromMedian</th>\n      <th>PacketTimeSkewFromMode</th>\n      <th>PacketTimeCoefficientofVariation</th>\n      <th>ResponseTimeTimeVariance</th>\n      <th>ResponseTimeTimeStandardDeviation</th>\n      <th>ResponseTimeTimeMean</th>\n      <th>ResponseTimeTimeMode</th>\n      <th>ResponseTimeTimeSkewFromMode</th>\n      <th>ResponseTimeTimeCoefficientofVariation</th>\n    </tr>\n  </thead>\n  <tbody>\n    <tr>\n      <th>0</th>\n      <td>192.168.20.191</td>\n      <td>176.103.130.131</td>\n      <td>50749</td>\n      <td>443</td>\n      <td>95.081550</td>\n      <td>62311</td>\n      <td>655.342703</td>\n      <td>65358</td>\n      <td>687.388878</td>\n      <td>7474.676771</td>\n      <td>...</td>\n      <td>1.495060</td>\n      <td>-0.433974</td>\n      <td>1.682529</td>\n      <td>0.574626</td>\n      <td>1.053454e-03</td>\n      <td>0.032457</td>\n      <td>0.027624</td>\n      <td>0.026822</td>\n      <td>0.024715</td>\n      <td>1.174948</td>\n    </tr>\n    <tr>\n      <th>1</th>\n      <td>192.168.20.191</td>\n      <td>176.103.130.131</td>\n      <td>50749</td>\n      <td>443</td>\n      <td>122.309318</td>\n      <td>93828</td>\n      <td>767.136973</td>\n      <td>101232</td>\n      <td>827.672018</td>\n      <td>10458.118598</td>\n      <td>...</td>\n      <td>31.719656</td>\n      <td>0.389704</td>\n      <td>0.772748</td>\n      <td>0.509047</td>\n      <td>1.169641e-03</td>\n      <td>0.034200</td>\n      <td>0.024387</td>\n      <td>0.026981</td>\n      <td>-0.075845</td>\n      <td>1.402382</td>\n    </tr>\n    <tr>\n      <th>2</th>\n      <td>192.168.20.191</td>\n      <td>176.103.130.131</td>\n      <td>50749</td>\n      <td>443</td>\n      <td>120.958413</td>\n      <td>38784</td>\n      <td>320.639127</td>\n      <td>38236</td>\n      <td>316.108645</td>\n      <td>7300.293933</td>\n      <td>...</td>\n      <td>0.417528</td>\n      <td>0.858198</td>\n      <td>1.353607</td>\n      <td>0.732636</td>\n      <td>7.851554e-04</td>\n      <td>0.028021</td>\n      <td>0.029238</td>\n      <td>0.026855</td>\n      <td>0.085061</td>\n      <td>0.958348</td>\n    </tr>\n    <tr>\n      <th>3</th>\n      <td>192.168.20.191</td>\n      <td>176.103.130.131</td>\n      <td>50749</td>\n      <td>443</td>\n      <td>110.501080</td>\n      <td>61993</td>\n      <td>561.017141</td>\n      <td>69757</td>\n      <td>631.278898</td>\n      <td>8499.282518</td>\n      <td>...</td>\n      <td>13.280934</td>\n      <td>1.508251</td>\n      <td>1.148758</td>\n      <td>0.646859</td>\n      <td>4.110453e-04</td>\n      <td>0.020274</td>\n      <td>0.019925</td>\n      <td>0.026918</td>\n      <td>-0.344926</td>\n      <td>1.017535</td>\n    </tr>\n    <tr>\n      <th>4</th>\n      <td>176.103.130.131</td>\n      <td>192.168.20.191</td>\n      <td>443</td>\n      <td>50749</td>\n      <td>54.229891</td>\n      <td>83641</td>\n      <td>1542.341289</td>\n      <td>76804</td>\n      <td>1416.266907</td>\n      <td>8052.745751</td>\n      <td>...</td>\n      <td>7.342519</td>\n      <td>-2.172613</td>\n      <td>1.573873</td>\n      <td>0.507334</td>\n      <td>7.907866e-02</td>\n      <td>0.281209</td>\n      <td>0.025930</td>\n      <td>0.000021</td>\n      <td>0.092135</td>\n      <td>10.844829</td>\n    </tr>\n    <tr>\n      <th>...</th>\n      <td>...</td>\n      <td>...</td>\n      <td>...</td>\n      <td>...</td>\n      <td>...</td>\n      <td>...</td>\n      <td>...</td>\n      <td>...</td>\n      <td>...</td>\n      <td>...</td>\n      <td>...</td>\n      <td>...</td>\n      <td>...</td>\n      <td>...</td>\n      <td>...</td>\n      <td>...</td>\n      <td>...</td>\n      <td>...</td>\n      <td>...</td>\n      <td>...</td>\n      <td>...</td>\n    </tr>\n    <tr>\n      <th>269638</th>\n      <td>1.1.1.1</td>\n      <td>192.168.20.207</td>\n      <td>443</td>\n      <td>33926</td>\n      <td>120.653838</td>\n      <td>78776</td>\n      <td>652.909193</td>\n      <td>46073</td>\n      <td>381.861040</td>\n      <td>7979.982650</td>\n      <td>...</td>\n      <td>0.000000</td>\n      <td>0.051544</td>\n      <td>1.627348</td>\n      <td>0.614497</td>\n      <td>8.716113e-09</td>\n      <td>0.000093</td>\n      <td>0.000054</td>\n      <td>0.000028</td>\n      <td>0.275939</td>\n      <td>1.736555</td>\n    </tr>\n    <tr>\n      <th>269639</th>\n      <td>1.1.1.1</td>\n      <td>192.168.20.207</td>\n      <td>443</td>\n      <td>33926</td>\n      <td>120.718680</td>\n      <td>78719</td>\n      <td>652.086322</td>\n      <td>46047</td>\n      <td>381.440553</td>\n      <td>8141.129962</td>\n      <td>...</td>\n      <td>0.000000</td>\n      <td>0.065879</td>\n      <td>1.623502</td>\n      <td>0.615953</td>\n      <td>8.737216e-07</td>\n      <td>0.000935</td>\n      <td>0.000110</td>\n      <td>0.000024</td>\n      <td>0.092028</td>\n      <td>8.495895</td>\n    </tr>\n    <tr>\n      <th>269640</th>\n      <td>1.1.1.1</td>\n      <td>192.168.20.207</td>\n      <td>443</td>\n      <td>33926</td>\n      <td>120.645723</td>\n      <td>78808</td>\n      <td>653.218349</td>\n      <td>46118</td>\n      <td>382.259718</td>\n      <td>8648.833760</td>\n      <td>...</td>\n      <td>0.000000</td>\n      <td>-0.087999</td>\n      <td>1.547221</td>\n      <td>0.646320</td>\n      <td>1.558392e-06</td>\n      <td>0.001248</td>\n      <td>0.000128</td>\n      <td>0.000025</td>\n      <td>0.082237</td>\n      <td>9.778681</td>\n    </tr>\n    <tr>\n      <th>269641</th>\n      <td>1.1.1.1</td>\n      <td>192.168.20.207</td>\n      <td>443</td>\n      <td>33926</td>\n      <td>120.652326</td>\n      <td>77281</td>\n      <td>640.526400</td>\n      <td>46015</td>\n      <td>381.385105</td>\n      <td>11417.273333</td>\n      <td>...</td>\n      <td>0.000000</td>\n      <td>0.194555</td>\n      <td>1.685458</td>\n      <td>0.593311</td>\n      <td>1.055948e-09</td>\n      <td>0.000032</td>\n      <td>0.000044</td>\n      <td>0.000017</td>\n      <td>0.819613</td>\n      <td>0.744732</td>\n    </tr>\n    <tr>\n      <th>269642</th>\n      <td>1.1.1.1</td>\n      <td>192.168.20.207</td>\n      <td>443</td>\n      <td>33926</td>\n      <td>30.951614</td>\n      <td>23514</td>\n      <td>759.701901</td>\n      <td>13884</td>\n      <td>448.571115</td>\n      <td>8107.633456</td>\n      <td>...</td>\n      <td>0.000000</td>\n      <td>-0.351311</td>\n      <td>1.396885</td>\n      <td>0.715879</td>\n      <td>3.638538e-08</td>\n      <td>0.000191</td>\n      <td>0.000075</td>\n      <td>0.000021</td>\n      <td>0.283843</td>\n      <td>2.538492</td>\n    </tr>\n  </tbody>\n</table>\n<p>269643 rows × 31 columns</p>\n</div>",
      "text/plain": [
       "               SourceIP    DestinationIP  SourcePort  DestinationPort  \\\n",
       "0        192.168.20.191  176.103.130.131       50749              443   \n",
       "1        192.168.20.191  176.103.130.131       50749              443   \n",
       "2        192.168.20.191  176.103.130.131       50749              443   \n",
       "3        192.168.20.191  176.103.130.131       50749              443   \n",
       "4       176.103.130.131   192.168.20.191         443            50749   \n",
       "...                 ...              ...         ...              ...   \n",
       "269638          1.1.1.1   192.168.20.207         443            33926   \n",
       "269639          1.1.1.1   192.168.20.207         443            33926   \n",
       "269640          1.1.1.1   192.168.20.207         443            33926   \n",
       "269641          1.1.1.1   192.168.20.207         443            33926   \n",
       "269642          1.1.1.1   192.168.20.207         443            33926   \n",
       "\n",
       "          Duration  FlowBytesSent  FlowSentRate  FlowBytesReceived  \\\n",
       "0        95.081550          62311    655.342703              65358   \n",
       "1       122.309318          93828    767.136973             101232   \n",
       "2       120.958413          38784    320.639127              38236   \n",
       "3       110.501080          61993    561.017141              69757   \n",
       "4        54.229891          83641   1542.341289              76804   \n",
       "...            ...            ...           ...                ...   \n",
       "269638  120.653838          78776    652.909193              46073   \n",
       "269639  120.718680          78719    652.086322              46047   \n",
       "269640  120.645723          78808    653.218349              46118   \n",
       "269641  120.652326          77281    640.526400              46015   \n",
       "269642   30.951614          23514    759.701901              13884   \n",
       "\n",
       "        FlowReceivedRate  PacketLengthVariance  ...  PacketTimeMode  \\\n",
       "0             687.388878           7474.676771  ...        1.495060   \n",
       "1             827.672018          10458.118598  ...       31.719656   \n",
       "2             316.108645           7300.293933  ...        0.417528   \n",
       "3             631.278898           8499.282518  ...       13.280934   \n",
       "4            1416.266907           8052.745751  ...        7.342519   \n",
       "...                  ...                   ...  ...             ...   \n",
       "269638        381.861040           7979.982650  ...        0.000000   \n",
       "269639        381.440553           8141.129962  ...        0.000000   \n",
       "269640        382.259718           8648.833760  ...        0.000000   \n",
       "269641        381.385105          11417.273333  ...        0.000000   \n",
       "269642        448.571115           8107.633456  ...        0.000000   \n",
       "\n",
       "        PacketTimeSkewFromMedian  PacketTimeSkewFromMode  \\\n",
       "0                      -0.433974                1.682529   \n",
       "1                       0.389704                0.772748   \n",
       "2                       0.858198                1.353607   \n",
       "3                       1.508251                1.148758   \n",
       "4                      -2.172613                1.573873   \n",
       "...                          ...                     ...   \n",
       "269638                  0.051544                1.627348   \n",
       "269639                  0.065879                1.623502   \n",
       "269640                 -0.087999                1.547221   \n",
       "269641                  0.194555                1.685458   \n",
       "269642                 -0.351311                1.396885   \n",
       "\n",
       "        PacketTimeCoefficientofVariation  ResponseTimeTimeVariance  \\\n",
       "0                               0.574626              1.053454e-03   \n",
       "1                               0.509047              1.169641e-03   \n",
       "2                               0.732636              7.851554e-04   \n",
       "3                               0.646859              4.110453e-04   \n",
       "4                               0.507334              7.907866e-02   \n",
       "...                                  ...                       ...   \n",
       "269638                          0.614497              8.716113e-09   \n",
       "269639                          0.615953              8.737216e-07   \n",
       "269640                          0.646320              1.558392e-06   \n",
       "269641                          0.593311              1.055948e-09   \n",
       "269642                          0.715879              3.638538e-08   \n",
       "\n",
       "        ResponseTimeTimeStandardDeviation  ResponseTimeTimeMean  \\\n",
       "0                                0.032457              0.027624   \n",
       "1                                0.034200              0.024387   \n",
       "2                                0.028021              0.029238   \n",
       "3                                0.020274              0.019925   \n",
       "4                                0.281209              0.025930   \n",
       "...                                   ...                   ...   \n",
       "269638                           0.000093              0.000054   \n",
       "269639                           0.000935              0.000110   \n",
       "269640                           0.001248              0.000128   \n",
       "269641                           0.000032              0.000044   \n",
       "269642                           0.000191              0.000075   \n",
       "\n",
       "        ResponseTimeTimeMode  ResponseTimeTimeSkewFromMode  \\\n",
       "0                   0.026822                      0.024715   \n",
       "1                   0.026981                     -0.075845   \n",
       "2                   0.026855                      0.085061   \n",
       "3                   0.026918                     -0.344926   \n",
       "4                   0.000021                      0.092135   \n",
       "...                      ...                           ...   \n",
       "269638              0.000028                      0.275939   \n",
       "269639              0.000024                      0.092028   \n",
       "269640              0.000025                      0.082237   \n",
       "269641              0.000017                      0.819613   \n",
       "269642              0.000021                      0.283843   \n",
       "\n",
       "        ResponseTimeTimeCoefficientofVariation  \n",
       "0                                     1.174948  \n",
       "1                                     1.402382  \n",
       "2                                     0.958348  \n",
       "3                                     1.017535  \n",
       "4                                    10.844829  \n",
       "...                                        ...  \n",
       "269638                                1.736555  \n",
       "269639                                8.495895  \n",
       "269640                                9.778681  \n",
       "269641                                0.744732  \n",
       "269642                                2.538492  \n",
       "\n",
       "[269643 rows x 31 columns]"
      ]
     },
     "execution_count": 12,
     "metadata": {},
     "output_type": "execute_result"
    }
   ],
   "source": [
    "dataset"
   ]
  },
  {
   "cell_type": "code",
   "execution_count": 13,
   "metadata": {},
   "outputs": [],
   "source": [
    "train_dataset = pd.concat([pd.DataFrame(X0), pd.DataFrame(X1),dataset.iloc[:,2:]], ignore_index=True, sort=False,axis=1)"
   ]
  },
  {
   "cell_type": "code",
   "execution_count": 14,
   "metadata": {},
   "outputs": [
    {
     "data": {
      "text/html": "<div>\n<style scoped>\n    .dataframe tbody tr th:only-of-type {\n        vertical-align: middle;\n    }\n\n    .dataframe tbody tr th {\n        vertical-align: top;\n    }\n\n    .dataframe thead th {\n        text-align: right;\n    }\n</style>\n<table border=\"1\" class=\"dataframe\">\n  <thead>\n    <tr style=\"text-align: right;\">\n      <th></th>\n      <th>0</th>\n      <th>1</th>\n      <th>2</th>\n      <th>3</th>\n      <th>4</th>\n      <th>5</th>\n      <th>6</th>\n      <th>7</th>\n      <th>8</th>\n      <th>9</th>\n      <th>...</th>\n      <th>21</th>\n      <th>22</th>\n      <th>23</th>\n      <th>24</th>\n      <th>25</th>\n      <th>26</th>\n      <th>27</th>\n      <th>28</th>\n      <th>29</th>\n      <th>30</th>\n    </tr>\n  </thead>\n  <tbody>\n    <tr>\n      <th>0</th>\n      <td>7</td>\n      <td>2</td>\n      <td>50749</td>\n      <td>443</td>\n      <td>95.081550</td>\n      <td>62311</td>\n      <td>655.342703</td>\n      <td>65358</td>\n      <td>687.388878</td>\n      <td>7474.676771</td>\n      <td>...</td>\n      <td>1.495060</td>\n      <td>-0.433974</td>\n      <td>1.682529</td>\n      <td>0.574626</td>\n      <td>1.053454e-03</td>\n      <td>0.032457</td>\n      <td>0.027624</td>\n      <td>0.026822</td>\n      <td>0.024715</td>\n      <td>1.174948</td>\n    </tr>\n    <tr>\n      <th>1</th>\n      <td>7</td>\n      <td>2</td>\n      <td>50749</td>\n      <td>443</td>\n      <td>122.309318</td>\n      <td>93828</td>\n      <td>767.136973</td>\n      <td>101232</td>\n      <td>827.672018</td>\n      <td>10458.118598</td>\n      <td>...</td>\n      <td>31.719656</td>\n      <td>0.389704</td>\n      <td>0.772748</td>\n      <td>0.509047</td>\n      <td>1.169641e-03</td>\n      <td>0.034200</td>\n      <td>0.024387</td>\n      <td>0.026981</td>\n      <td>-0.075845</td>\n      <td>1.402382</td>\n    </tr>\n    <tr>\n      <th>2</th>\n      <td>7</td>\n      <td>2</td>\n      <td>50749</td>\n      <td>443</td>\n      <td>120.958413</td>\n      <td>38784</td>\n      <td>320.639127</td>\n      <td>38236</td>\n      <td>316.108645</td>\n      <td>7300.293933</td>\n      <td>...</td>\n      <td>0.417528</td>\n      <td>0.858198</td>\n      <td>1.353607</td>\n      <td>0.732636</td>\n      <td>7.851554e-04</td>\n      <td>0.028021</td>\n      <td>0.029238</td>\n      <td>0.026855</td>\n      <td>0.085061</td>\n      <td>0.958348</td>\n    </tr>\n    <tr>\n      <th>3</th>\n      <td>7</td>\n      <td>2</td>\n      <td>50749</td>\n      <td>443</td>\n      <td>110.501080</td>\n      <td>61993</td>\n      <td>561.017141</td>\n      <td>69757</td>\n      <td>631.278898</td>\n      <td>8499.282518</td>\n      <td>...</td>\n      <td>13.280934</td>\n      <td>1.508251</td>\n      <td>1.148758</td>\n      <td>0.646859</td>\n      <td>4.110453e-04</td>\n      <td>0.020274</td>\n      <td>0.019925</td>\n      <td>0.026918</td>\n      <td>-0.344926</td>\n      <td>1.017535</td>\n    </tr>\n    <tr>\n      <th>4</th>\n      <td>2</td>\n      <td>7</td>\n      <td>443</td>\n      <td>50749</td>\n      <td>54.229891</td>\n      <td>83641</td>\n      <td>1542.341289</td>\n      <td>76804</td>\n      <td>1416.266907</td>\n      <td>8052.745751</td>\n      <td>...</td>\n      <td>7.342519</td>\n      <td>-2.172613</td>\n      <td>1.573873</td>\n      <td>0.507334</td>\n      <td>7.907866e-02</td>\n      <td>0.281209</td>\n      <td>0.025930</td>\n      <td>0.000021</td>\n      <td>0.092135</td>\n      <td>10.844829</td>\n    </tr>\n    <tr>\n      <th>...</th>\n      <td>...</td>\n      <td>...</td>\n      <td>...</td>\n      <td>...</td>\n      <td>...</td>\n      <td>...</td>\n      <td>...</td>\n      <td>...</td>\n      <td>...</td>\n      <td>...</td>\n      <td>...</td>\n      <td>...</td>\n      <td>...</td>\n      <td>...</td>\n      <td>...</td>\n      <td>...</td>\n      <td>...</td>\n      <td>...</td>\n      <td>...</td>\n      <td>...</td>\n      <td>...</td>\n    </tr>\n    <tr>\n      <th>269638</th>\n      <td>0</td>\n      <td>11</td>\n      <td>443</td>\n      <td>33926</td>\n      <td>120.653838</td>\n      <td>78776</td>\n      <td>652.909193</td>\n      <td>46073</td>\n      <td>381.861040</td>\n      <td>7979.982650</td>\n      <td>...</td>\n      <td>0.000000</td>\n      <td>0.051544</td>\n      <td>1.627348</td>\n      <td>0.614497</td>\n      <td>8.716113e-09</td>\n      <td>0.000093</td>\n      <td>0.000054</td>\n      <td>0.000028</td>\n      <td>0.275939</td>\n      <td>1.736555</td>\n    </tr>\n    <tr>\n      <th>269639</th>\n      <td>0</td>\n      <td>11</td>\n      <td>443</td>\n      <td>33926</td>\n      <td>120.718680</td>\n      <td>78719</td>\n      <td>652.086322</td>\n      <td>46047</td>\n      <td>381.440553</td>\n      <td>8141.129962</td>\n      <td>...</td>\n      <td>0.000000</td>\n      <td>0.065879</td>\n      <td>1.623502</td>\n      <td>0.615953</td>\n      <td>8.737216e-07</td>\n      <td>0.000935</td>\n      <td>0.000110</td>\n      <td>0.000024</td>\n      <td>0.092028</td>\n      <td>8.495895</td>\n    </tr>\n    <tr>\n      <th>269640</th>\n      <td>0</td>\n      <td>11</td>\n      <td>443</td>\n      <td>33926</td>\n      <td>120.645723</td>\n      <td>78808</td>\n      <td>653.218349</td>\n      <td>46118</td>\n      <td>382.259718</td>\n      <td>8648.833760</td>\n      <td>...</td>\n      <td>0.000000</td>\n      <td>-0.087999</td>\n      <td>1.547221</td>\n      <td>0.646320</td>\n      <td>1.558392e-06</td>\n      <td>0.001248</td>\n      <td>0.000128</td>\n      <td>0.000025</td>\n      <td>0.082237</td>\n      <td>9.778681</td>\n    </tr>\n    <tr>\n      <th>269641</th>\n      <td>0</td>\n      <td>11</td>\n      <td>443</td>\n      <td>33926</td>\n      <td>120.652326</td>\n      <td>77281</td>\n      <td>640.526400</td>\n      <td>46015</td>\n      <td>381.385105</td>\n      <td>11417.273333</td>\n      <td>...</td>\n      <td>0.000000</td>\n      <td>0.194555</td>\n      <td>1.685458</td>\n      <td>0.593311</td>\n      <td>1.055948e-09</td>\n      <td>0.000032</td>\n      <td>0.000044</td>\n      <td>0.000017</td>\n      <td>0.819613</td>\n      <td>0.744732</td>\n    </tr>\n    <tr>\n      <th>269642</th>\n      <td>0</td>\n      <td>11</td>\n      <td>443</td>\n      <td>33926</td>\n      <td>30.951614</td>\n      <td>23514</td>\n      <td>759.701901</td>\n      <td>13884</td>\n      <td>448.571115</td>\n      <td>8107.633456</td>\n      <td>...</td>\n      <td>0.000000</td>\n      <td>-0.351311</td>\n      <td>1.396885</td>\n      <td>0.715879</td>\n      <td>3.638538e-08</td>\n      <td>0.000191</td>\n      <td>0.000075</td>\n      <td>0.000021</td>\n      <td>0.283843</td>\n      <td>2.538492</td>\n    </tr>\n  </tbody>\n</table>\n<p>269643 rows × 31 columns</p>\n</div>",
      "text/plain": [
       "        0   1      2      3           4      5            6       7   \\\n",
       "0        7   2  50749    443   95.081550  62311   655.342703   65358   \n",
       "1        7   2  50749    443  122.309318  93828   767.136973  101232   \n",
       "2        7   2  50749    443  120.958413  38784   320.639127   38236   \n",
       "3        7   2  50749    443  110.501080  61993   561.017141   69757   \n",
       "4        2   7    443  50749   54.229891  83641  1542.341289   76804   \n",
       "...     ..  ..    ...    ...         ...    ...          ...     ...   \n",
       "269638   0  11    443  33926  120.653838  78776   652.909193   46073   \n",
       "269639   0  11    443  33926  120.718680  78719   652.086322   46047   \n",
       "269640   0  11    443  33926  120.645723  78808   653.218349   46118   \n",
       "269641   0  11    443  33926  120.652326  77281   640.526400   46015   \n",
       "269642   0  11    443  33926   30.951614  23514   759.701901   13884   \n",
       "\n",
       "                 8             9   ...         21        22        23  \\\n",
       "0        687.388878   7474.676771  ...   1.495060 -0.433974  1.682529   \n",
       "1        827.672018  10458.118598  ...  31.719656  0.389704  0.772748   \n",
       "2        316.108645   7300.293933  ...   0.417528  0.858198  1.353607   \n",
       "3        631.278898   8499.282518  ...  13.280934  1.508251  1.148758   \n",
       "4       1416.266907   8052.745751  ...   7.342519 -2.172613  1.573873   \n",
       "...             ...           ...  ...        ...       ...       ...   \n",
       "269638   381.861040   7979.982650  ...   0.000000  0.051544  1.627348   \n",
       "269639   381.440553   8141.129962  ...   0.000000  0.065879  1.623502   \n",
       "269640   382.259718   8648.833760  ...   0.000000 -0.087999  1.547221   \n",
       "269641   381.385105  11417.273333  ...   0.000000  0.194555  1.685458   \n",
       "269642   448.571115   8107.633456  ...   0.000000 -0.351311  1.396885   \n",
       "\n",
       "              24            25        26        27        28        29  \\\n",
       "0       0.574626  1.053454e-03  0.032457  0.027624  0.026822  0.024715   \n",
       "1       0.509047  1.169641e-03  0.034200  0.024387  0.026981 -0.075845   \n",
       "2       0.732636  7.851554e-04  0.028021  0.029238  0.026855  0.085061   \n",
       "3       0.646859  4.110453e-04  0.020274  0.019925  0.026918 -0.344926   \n",
       "4       0.507334  7.907866e-02  0.281209  0.025930  0.000021  0.092135   \n",
       "...          ...           ...       ...       ...       ...       ...   \n",
       "269638  0.614497  8.716113e-09  0.000093  0.000054  0.000028  0.275939   \n",
       "269639  0.615953  8.737216e-07  0.000935  0.000110  0.000024  0.092028   \n",
       "269640  0.646320  1.558392e-06  0.001248  0.000128  0.000025  0.082237   \n",
       "269641  0.593311  1.055948e-09  0.000032  0.000044  0.000017  0.819613   \n",
       "269642  0.715879  3.638538e-08  0.000191  0.000075  0.000021  0.283843   \n",
       "\n",
       "               30  \n",
       "0        1.174948  \n",
       "1        1.402382  \n",
       "2        0.958348  \n",
       "3        1.017535  \n",
       "4       10.844829  \n",
       "...           ...  \n",
       "269638   1.736555  \n",
       "269639   8.495895  \n",
       "269640   9.778681  \n",
       "269641   0.744732  \n",
       "269642   2.538492  \n",
       "\n",
       "[269643 rows x 31 columns]"
      ]
     },
     "execution_count": 14,
     "metadata": {},
     "output_type": "execute_result"
    }
   ],
   "source": [
    "train_dataset"
   ]
  },
  {
   "cell_type": "code",
   "execution_count": 15,
   "metadata": {},
   "outputs": [],
   "source": [
    "# Splitting the dataset into the Training set and Test set\n",
    "from sklearn.model_selection import train_test_split\n",
    "X_train, X_test, Y_train, Y_test = train_test_split(train_dataset, Y, test_size = 0.20, random_state = 7)"
   ]
  },
  {
   "cell_type": "code",
   "execution_count": 16,
   "metadata": {},
   "outputs": [
    {
     "data": {
      "text/html": "<div>\n<style scoped>\n    .dataframe tbody tr th:only-of-type {\n        vertical-align: middle;\n    }\n\n    .dataframe tbody tr th {\n        vertical-align: top;\n    }\n\n    .dataframe thead th {\n        text-align: right;\n    }\n</style>\n<table border=\"1\" class=\"dataframe\">\n  <thead>\n    <tr style=\"text-align: right;\">\n      <th></th>\n      <th>0</th>\n      <th>1</th>\n      <th>2</th>\n      <th>3</th>\n      <th>4</th>\n      <th>5</th>\n      <th>6</th>\n      <th>7</th>\n      <th>8</th>\n      <th>9</th>\n      <th>...</th>\n      <th>21</th>\n      <th>22</th>\n      <th>23</th>\n      <th>24</th>\n      <th>25</th>\n      <th>26</th>\n      <th>27</th>\n      <th>28</th>\n      <th>29</th>\n      <th>30</th>\n    </tr>\n  </thead>\n  <tbody>\n    <tr>\n      <th>157028</th>\n      <td>11</td>\n      <td>19</td>\n      <td>34268</td>\n      <td>443</td>\n      <td>34.078100</td>\n      <td>1806</td>\n      <td>52.995912</td>\n      <td>4828</td>\n      <td>141.674565</td>\n      <td>145522.872771</td>\n      <td>...</td>\n      <td>0.000000</td>\n      <td>1.868011</td>\n      <td>0.627539</td>\n      <td>1.593526</td>\n      <td>0.000053</td>\n      <td>0.007247</td>\n      <td>0.010333</td>\n      <td>0.000029</td>\n      <td>1.421672</td>\n      <td>0.701423</td>\n    </tr>\n    <tr>\n      <th>39462</th>\n      <td>15</td>\n      <td>19</td>\n      <td>33882</td>\n      <td>443</td>\n      <td>33.250342</td>\n      <td>1807</td>\n      <td>54.345306</td>\n      <td>4896</td>\n      <td>147.246606</td>\n      <td>141502.778889</td>\n      <td>...</td>\n      <td>0.000000</td>\n      <td>1.809618</td>\n      <td>0.608341</td>\n      <td>1.643816</td>\n      <td>0.000066</td>\n      <td>0.008112</td>\n      <td>0.011473</td>\n      <td>0.000028</td>\n      <td>1.410863</td>\n      <td>0.707056</td>\n    </tr>\n    <tr>\n      <th>63031</th>\n      <td>16</td>\n      <td>19</td>\n      <td>51538</td>\n      <td>443</td>\n      <td>33.852019</td>\n      <td>1807</td>\n      <td>53.379386</td>\n      <td>4896</td>\n      <td>144.629483</td>\n      <td>141502.778889</td>\n      <td>...</td>\n      <td>0.000000</td>\n      <td>1.821872</td>\n      <td>0.612206</td>\n      <td>1.633437</td>\n      <td>0.000054</td>\n      <td>0.007320</td>\n      <td>0.010433</td>\n      <td>0.000024</td>\n      <td>1.422026</td>\n      <td>0.701604</td>\n    </tr>\n    <tr>\n      <th>97490</th>\n      <td>8</td>\n      <td>19</td>\n      <td>53358</td>\n      <td>443</td>\n      <td>0.536877</td>\n      <td>1153</td>\n      <td>2147.605504</td>\n      <td>4100</td>\n      <td>7636.758513</td>\n      <td>189294.627500</td>\n      <td>...</td>\n      <td>0.000000</td>\n      <td>2.276565</td>\n      <td>1.213947</td>\n      <td>0.823759</td>\n      <td>0.000692</td>\n      <td>0.026309</td>\n      <td>0.016689</td>\n      <td>0.000007</td>\n      <td>0.634072</td>\n      <td>1.576447</td>\n    </tr>\n    <tr>\n      <th>94907</th>\n      <td>17</td>\n      <td>11</td>\n      <td>443</td>\n      <td>58054</td>\n      <td>97.316595</td>\n      <td>874460</td>\n      <td>8985.723350</td>\n      <td>500212</td>\n      <td>5140.048313</td>\n      <td>9648.179724</td>\n      <td>...</td>\n      <td>16.972301</td>\n      <td>-0.000999</td>\n      <td>1.148334</td>\n      <td>0.567258</td>\n      <td>0.000071</td>\n      <td>0.008421</td>\n      <td>0.000760</td>\n      <td>0.000026</td>\n      <td>0.087203</td>\n      <td>11.075367</td>\n    </tr>\n    <tr>\n      <th>...</th>\n      <td>...</td>\n      <td>...</td>\n      <td>...</td>\n      <td>...</td>\n      <td>...</td>\n      <td>...</td>\n      <td>...</td>\n      <td>...</td>\n      <td>...</td>\n      <td>...</td>\n      <td>...</td>\n      <td>...</td>\n      <td>...</td>\n      <td>...</td>\n      <td>...</td>\n      <td>...</td>\n      <td>...</td>\n      <td>...</td>\n      <td>...</td>\n      <td>...</td>\n      <td>...</td>\n    </tr>\n    <tr>\n      <th>235075</th>\n      <td>6</td>\n      <td>1</td>\n      <td>53528</td>\n      <td>443</td>\n      <td>120.833295</td>\n      <td>27861</td>\n      <td>230.573866</td>\n      <td>95653</td>\n      <td>791.611286</td>\n      <td>173836.024414</td>\n      <td>...</td>\n      <td>0.000000</td>\n      <td>0.150757</td>\n      <td>1.497553</td>\n      <td>0.667756</td>\n      <td>0.015680</td>\n      <td>0.125221</td>\n      <td>0.067241</td>\n      <td>0.026683</td>\n      <td>0.323894</td>\n      <td>1.862266</td>\n    </tr>\n    <tr>\n      <th>10742</th>\n      <td>3</td>\n      <td>18</td>\n      <td>49954</td>\n      <td>443</td>\n      <td>0.057762</td>\n      <td>171</td>\n      <td>2960.423808</td>\n      <td>171</td>\n      <td>2960.423808</td>\n      <td>380.250000</td>\n      <td>...</td>\n      <td>0.000000</td>\n      <td>0.932039</td>\n      <td>1.033551</td>\n      <td>0.967538</td>\n      <td>0.000000</td>\n      <td>0.000000</td>\n      <td>0.015525</td>\n      <td>0.015525</td>\n      <td>-10.000000</td>\n      <td>0.000000</td>\n    </tr>\n    <tr>\n      <th>49689</th>\n      <td>10</td>\n      <td>19</td>\n      <td>33852</td>\n      <td>443</td>\n      <td>34.064888</td>\n      <td>1807</td>\n      <td>53.045822</td>\n      <td>4896</td>\n      <td>143.725704</td>\n      <td>141502.778889</td>\n      <td>...</td>\n      <td>0.000000</td>\n      <td>1.825094</td>\n      <td>0.613456</td>\n      <td>1.630108</td>\n      <td>0.000061</td>\n      <td>0.007817</td>\n      <td>0.010875</td>\n      <td>0.000024</td>\n      <td>1.388081</td>\n      <td>0.718829</td>\n    </tr>\n    <tr>\n      <th>189636</th>\n      <td>17</td>\n      <td>12</td>\n      <td>443</td>\n      <td>44096</td>\n      <td>94.928117</td>\n      <td>896203</td>\n      <td>9440.859340</td>\n      <td>497414</td>\n      <td>5239.901683</td>\n      <td>10393.881227</td>\n      <td>...</td>\n      <td>6.764943</td>\n      <td>0.038907</td>\n      <td>1.477315</td>\n      <td>0.580090</td>\n      <td>0.000094</td>\n      <td>0.009713</td>\n      <td>0.000873</td>\n      <td>0.000027</td>\n      <td>0.087153</td>\n      <td>11.119349</td>\n    </tr>\n    <tr>\n      <th>61615</th>\n      <td>9</td>\n      <td>19</td>\n      <td>47874</td>\n      <td>443</td>\n      <td>33.813279</td>\n      <td>1807</td>\n      <td>53.440543</td>\n      <td>4896</td>\n      <td>144.795185</td>\n      <td>141502.778889</td>\n      <td>...</td>\n      <td>0.000000</td>\n      <td>1.821763</td>\n      <td>0.612024</td>\n      <td>1.633922</td>\n      <td>0.000066</td>\n      <td>0.008109</td>\n      <td>0.011211</td>\n      <td>0.000005</td>\n      <td>1.381913</td>\n      <td>0.723312</td>\n    </tr>\n  </tbody>\n</table>\n<p>215714 rows × 31 columns</p>\n</div>",
      "text/plain": [
       "        0   1      2      3           4       5            6       7   \\\n",
       "157028  11  19  34268    443   34.078100    1806    52.995912    4828   \n",
       "39462   15  19  33882    443   33.250342    1807    54.345306    4896   \n",
       "63031   16  19  51538    443   33.852019    1807    53.379386    4896   \n",
       "97490    8  19  53358    443    0.536877    1153  2147.605504    4100   \n",
       "94907   17  11    443  58054   97.316595  874460  8985.723350  500212   \n",
       "...     ..  ..    ...    ...         ...     ...          ...     ...   \n",
       "235075   6   1  53528    443  120.833295   27861   230.573866   95653   \n",
       "10742    3  18  49954    443    0.057762     171  2960.423808     171   \n",
       "49689   10  19  33852    443   34.064888    1807    53.045822    4896   \n",
       "189636  17  12    443  44096   94.928117  896203  9440.859340  497414   \n",
       "61615    9  19  47874    443   33.813279    1807    53.440543    4896   \n",
       "\n",
       "                 8              9   ...         21        22        23  \\\n",
       "157028   141.674565  145522.872771  ...   0.000000  1.868011  0.627539   \n",
       "39462    147.246606  141502.778889  ...   0.000000  1.809618  0.608341   \n",
       "63031    144.629483  141502.778889  ...   0.000000  1.821872  0.612206   \n",
       "97490   7636.758513  189294.627500  ...   0.000000  2.276565  1.213947   \n",
       "94907   5140.048313    9648.179724  ...  16.972301 -0.000999  1.148334   \n",
       "...             ...            ...  ...        ...       ...       ...   \n",
       "235075   791.611286  173836.024414  ...   0.000000  0.150757  1.497553   \n",
       "10742   2960.423808     380.250000  ...   0.000000  0.932039  1.033551   \n",
       "49689    143.725704  141502.778889  ...   0.000000  1.825094  0.613456   \n",
       "189636  5239.901683   10393.881227  ...   6.764943  0.038907  1.477315   \n",
       "61615    144.795185  141502.778889  ...   0.000000  1.821763  0.612024   \n",
       "\n",
       "              24        25        26        27        28         29         30  \n",
       "157028  1.593526  0.000053  0.007247  0.010333  0.000029   1.421672   0.701423  \n",
       "39462   1.643816  0.000066  0.008112  0.011473  0.000028   1.410863   0.707056  \n",
       "63031   1.633437  0.000054  0.007320  0.010433  0.000024   1.422026   0.701604  \n",
       "97490   0.823759  0.000692  0.026309  0.016689  0.000007   0.634072   1.576447  \n",
       "94907   0.567258  0.000071  0.008421  0.000760  0.000026   0.087203  11.075367  \n",
       "...          ...       ...       ...       ...       ...        ...        ...  \n",
       "235075  0.667756  0.015680  0.125221  0.067241  0.026683   0.323894   1.862266  \n",
       "10742   0.967538  0.000000  0.000000  0.015525  0.015525 -10.000000   0.000000  \n",
       "49689   1.630108  0.000061  0.007817  0.010875  0.000024   1.388081   0.718829  \n",
       "189636  0.580090  0.000094  0.009713  0.000873  0.000027   0.087153  11.119349  \n",
       "61615   1.633922  0.000066  0.008109  0.011211  0.000005   1.381913   0.723312  \n",
       "\n",
       "[215714 rows x 31 columns]"
      ]
     },
     "execution_count": 16,
     "metadata": {},
     "output_type": "execute_result"
    }
   ],
   "source": [
    "X_train"
   ]
  },
  {
   "cell_type": "code",
   "execution_count": 17,
   "metadata": {},
   "outputs": [],
   "source": [
    "#Feature Scaling\n",
    "from sklearn.preprocessing import StandardScaler\n",
    "sc = StandardScaler()\n",
    "X_train = sc.fit_transform(X_train)\n",
    "X_test = sc.transform(X_test)"
   ]
  },
  {
   "cell_type": "code",
   "execution_count": 20,
   "metadata": {},
   "outputs": [
    {
     "data": {
      "text/plain": [
       "53929"
      ]
     },
     "execution_count": 20,
     "metadata": {},
     "output_type": "execute_result"
    }
   ],
   "source": [
    "len(X_test)"
   ]
  },
  {
   "cell_type": "code",
   "execution_count": 115,
   "metadata": {},
   "outputs": [
    {
     "name": "stdout",
     "output_type": "stream",
     "text": [
      "0.9709989059689592\n",
      "C:\\Users\\Raghav\\anaconda3\\envs\\dohlyzer2\\lib\\site-packages\\sklearn\\linear_model\\_logistic.py:940: ConvergenceWarning: lbfgs failed to converge (status=1):\n",
      "STOP: TOTAL NO. of ITERATIONS REACHED LIMIT.\n",
      "\n",
      "Increase the number of iterations (max_iter) or scale the data as shown in:\n",
      "    https://scikit-learn.org/stable/modules/preprocessing.html\n",
      "Please also refer to the documentation for alternative solver options:\n",
      "    https://scikit-learn.org/stable/modules/linear_model.html#logistic-regression\n",
      "  extra_warning_msg=_LOGISTIC_SOLVER_CONVERGENCE_MSG)\n"
     ]
    }
   ],
   "source": [
    "#Fitting the Logistic Regression Algorithm to the Training Set\n",
    "from sklearn.linear_model import LogisticRegression\n",
    "classifier = LogisticRegression(random_state = 7)\n",
    "classifier.fit(X_train, Y_train)\n",
    "#95.8 Acuracy\n",
    "print(classifier.score(X_test,Y_test))"
   ]
  },
  {
   "cell_type": "code",
   "execution_count": 116,
   "metadata": {},
   "outputs": [
    {
     "name": "stdout",
     "output_type": "stream",
     "text": [
      "0.9992582840401268\n"
     ]
    }
   ],
   "source": [
    "#Fitting K-NN Algorithm\n",
    "from sklearn.neighbors import KNeighborsClassifier\n",
    "classifier = KNeighborsClassifier(n_neighbors = 2, metric = 'minkowski', p = 2)\n",
    "classifier.fit(X_train, Y_train)\n",
    "#95.1 Acuracy\n",
    "print(classifier.score(X_test,Y_test))"
   ]
  },
  {
   "cell_type": "code",
   "execution_count": 117,
   "metadata": {},
   "outputs": [],
   "source": [
    "#Fitting SVM\n",
    "from sklearn.svm import SVC\n",
    "classifier = SVC(kernel = 'linear', random_state = 0)\n",
    "classifier.fit(X_train, Y_train) \n",
    "#97.2 Acuracy\n",
    "print(classifier.score(X_test,Y_test))\n"
   ]
  },
  {
   "cell_type": "code",
   "execution_count": null,
   "metadata": {},
   "outputs": [],
   "source": [
    "#Fitting K-SVM\n",
    "from sklearn.svm import SVC\n",
    "classifier = SVC(kernel = 'rbf', random_state = 0)\n",
    "classifier.fit(X_train, Y_train)\n",
    "#96.5 Acuracy\n",
    "print(classifier.score(X_test,Y_test))"
   ]
  },
  {
   "cell_type": "code",
   "execution_count": 18,
   "metadata": {},
   "outputs": [
    {
     "name": "stdout",
     "output_type": "stream",
     "text": [
      "0.9999258284040127\n"
     ]
    }
   ],
   "source": [
    "#Fitting Random Forest Classification Algorithm\n",
    "from sklearn.ensemble import RandomForestClassifier\n",
    "classifier = RandomForestClassifier(n_estimators = 10, criterion = 'entropy', random_state = 0)\n",
    "classifier.fit(X_train, Y_train)\n",
    "#98.6 Acuracy\n",
    "print(classifier.score(X_test,Y_test))\n"
   ]
  },
  {
   "cell_type": "code",
   "execution_count": null,
   "metadata": {},
   "outputs": [],
   "source": []
  }
 ],
 "metadata": {
  "kernelspec": {
   "display_name": "Python 3.7.10 64-bit ('dohlyzer2': conda)",
   "metadata": {
    "interpreter": {
     "hash": "b427fb4e9d886d9755aeb86e2c221bd3e05065a57c3adb1e519f005dfb40b130"
    }
   },
   "name": "python3"
  },
  "language_info": {
   "codemirror_mode": {
    "name": "ipython",
    "version": 3
   },
   "file_extension": ".py",
   "mimetype": "text/x-python",
   "name": "python",
   "nbconvert_exporter": "python",
   "pygments_lexer": "ipython3",
   "version": "3.7.10-final"
  },
  "orig_nbformat": 2
 },
 "nbformat": 4,
 "nbformat_minor": 2
}